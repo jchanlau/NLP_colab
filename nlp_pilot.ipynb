{
  "nbformat": 4,
  "nbformat_minor": 0,
  "metadata": {
    "colab": {
      "provenance": [],
      "toc_visible": true,
      "authorship_tag": "ABX9TyPDoMjD4OdTIaoBOExpN8pU",
      "include_colab_link": true
    },
    "kernelspec": {
      "name": "python3",
      "display_name": "Python 3"
    },
    "language_info": {
      "name": "python"
    }
  },
  "cells": [
    {
      "cell_type": "markdown",
      "metadata": {
        "id": "view-in-github",
        "colab_type": "text"
      },
      "source": [
        "<a href=\"https://colab.research.google.com/github/jchanlau/NLP_colab/blob/main/nlp_pilot.ipynb\" target=\"_parent\"><img src=\"https://colab.research.google.com/assets/colab-badge.svg\" alt=\"Open In Colab\"/></a>"
      ]
    },
    {
      "cell_type": "markdown",
      "source": [
        "**Pilot program to distill text from PDF and perform sentiment analysis**"
      ],
      "metadata": {
        "id": "tV8ZAw3TYntR"
      }
    },
    {
      "cell_type": "code",
      "execution_count": 1,
      "metadata": {
        "colab": {
          "base_uri": "https://localhost:8080/"
        },
        "outputId": "299747c6-b3f2-40b6-c4a0-4d5e126d6c91",
        "id": "NEzXRyephSGZ"
      },
      "outputs": [
        {
          "output_type": "stream",
          "name": "stdout",
          "text": [
            "Looking in indexes: https://pypi.org/simple, https://us-python.pkg.dev/colab-wheels/public/simple/\n",
            "Requirement already satisfied: transformers in /usr/local/lib/python3.8/dist-packages (4.25.1)\n",
            "Requirement already satisfied: regex!=2019.12.17 in /usr/local/lib/python3.8/dist-packages (from transformers) (2022.6.2)\n",
            "Requirement already satisfied: packaging>=20.0 in /usr/local/lib/python3.8/dist-packages (from transformers) (21.3)\n",
            "Requirement already satisfied: pyyaml>=5.1 in /usr/local/lib/python3.8/dist-packages (from transformers) (6.0)\n",
            "Requirement already satisfied: requests in /usr/local/lib/python3.8/dist-packages (from transformers) (2.23.0)\n",
            "Requirement already satisfied: numpy>=1.17 in /usr/local/lib/python3.8/dist-packages (from transformers) (1.21.6)\n",
            "Requirement already satisfied: tqdm>=4.27 in /usr/local/lib/python3.8/dist-packages (from transformers) (4.64.1)\n",
            "Requirement already satisfied: tokenizers!=0.11.3,<0.14,>=0.11.1 in /usr/local/lib/python3.8/dist-packages (from transformers) (0.13.2)\n",
            "Requirement already satisfied: filelock in /usr/local/lib/python3.8/dist-packages (from transformers) (3.8.0)\n",
            "Requirement already satisfied: huggingface-hub<1.0,>=0.10.0 in /usr/local/lib/python3.8/dist-packages (from transformers) (0.11.1)\n",
            "Requirement already satisfied: typing-extensions>=3.7.4.3 in /usr/local/lib/python3.8/dist-packages (from huggingface-hub<1.0,>=0.10.0->transformers) (4.1.1)\n",
            "Requirement already satisfied: pyparsing!=3.0.5,>=2.0.2 in /usr/local/lib/python3.8/dist-packages (from packaging>=20.0->transformers) (3.0.9)\n",
            "Requirement already satisfied: urllib3!=1.25.0,!=1.25.1,<1.26,>=1.21.1 in /usr/local/lib/python3.8/dist-packages (from requests->transformers) (1.24.3)\n",
            "Requirement already satisfied: chardet<4,>=3.0.2 in /usr/local/lib/python3.8/dist-packages (from requests->transformers) (3.0.4)\n",
            "Requirement already satisfied: idna<3,>=2.5 in /usr/local/lib/python3.8/dist-packages (from requests->transformers) (2.10)\n",
            "Requirement already satisfied: certifi>=2017.4.17 in /usr/local/lib/python3.8/dist-packages (from requests->transformers) (2022.9.24)\n",
            "Looking in indexes: https://pypi.org/simple, https://us-python.pkg.dev/colab-wheels/public/simple/\n",
            "Requirement already satisfied: pymupdf in /usr/local/lib/python3.8/dist-packages (1.21.0)\n",
            "Looking in indexes: https://pypi.org/simple, https://us-python.pkg.dev/colab-wheels/public/simple/\n",
            "Requirement already satisfied: nltk in /usr/local/lib/python3.8/dist-packages (3.7)\n",
            "Requirement already satisfied: regex>=2021.8.3 in /usr/local/lib/python3.8/dist-packages (from nltk) (2022.6.2)\n",
            "Requirement already satisfied: tqdm in /usr/local/lib/python3.8/dist-packages (from nltk) (4.64.1)\n",
            "Requirement already satisfied: click in /usr/local/lib/python3.8/dist-packages (from nltk) (7.1.2)\n",
            "Requirement already satisfied: joblib in /usr/local/lib/python3.8/dist-packages (from nltk) (1.2.0)\n"
          ]
        },
        {
          "output_type": "stream",
          "name": "stderr",
          "text": [
            "[nltk_data] Downloading package punkt to /root/nltk_data...\n",
            "[nltk_data]   Package punkt is already up-to-date!\n"
          ]
        }
      ],
      "source": [
        "!pip install transformers        # Hugging Face transfomers\n",
        "!pip install --upgrade pymupdf   # util to manipulate PDF files\n",
        "!pip install nltk\n",
        "# !pip install PyPDF2            # alternative \n",
        "\n",
        "from transformers import pipeline # import Hugging Face\n",
        "import fitz # pymupdf\n",
        "import nltk # parse sentences in paragraph\n",
        "nltk.download('punkt')\n",
        "import numpy as np; import pandas as pd  # standard libraries\n",
        "import os   # in Google Colab, the home directory is content, \n",
        "            # need to store data files in content/data\n"
      ]
    },
    {
      "cell_type": "code",
      "source": [
        "# Useful functions\n",
        "\n",
        "# find text between first and last value, avoids repetitions\n",
        "def find_between_r( s, first, last ):\n",
        "    try:\n",
        "        start = s.rindex( first ) + len( first )\n",
        "        end = s.rindex( last, start )\n",
        "        return s[start:end]\n",
        "    except ValueError:\n",
        "        return \"\"\n",
        "\n",
        "# find text between first and last value\n",
        "def find_between( s, first, last ):\n",
        "    try:\n",
        "        start = s.index( first ) + len( first )\n",
        "        end = s.index( last, start )\n",
        "        return s[start:end]\n",
        "    except ValueError:\n",
        "        return \"\"\n",
        "\n",
        "def parse_sentences(text, classifier, min_chars = 50):\n",
        "  sentences = nltk.sent_tokenize(text)\n",
        "  sentence_list = []\n",
        "  sentiment_list = []\n",
        "  for s in sentences:\n",
        "    if len(s)> min_chars:\n",
        "      sentiment_list.append(pd.DataFrame(classifier(s)))\n",
        "      sentence_list.append(s) \n",
        "  return pd.concat(sentiment_list).reset_index(), sentence_list\n",
        "\n",
        "def examine_sentence(sentiment_list, sentence_list, sentiment):\n",
        "  idx = sentiment_list.index[sentiment_list.label==sentiment].tolist()\n",
        "  return [sentence_list[i] for i in idx]\n",
        "\n"
      ],
      "metadata": {
        "id": "KZJszg1sYzxD"
      },
      "execution_count": 2,
      "outputs": []
    },
    {
      "cell_type": "code",
      "source": [
        "# get text\n",
        "doc = fitz.open(\"data/1PEREA2021001.pdf\")\n",
        "text= \"\"\n",
        "for page in doc:\n",
        "    text += page.get_text()\n",
        "doc.close()\n",
        "\n",
        "context = find_between_r(text, \"CONTEXT\", \"RECENT DEVELOPMENTS\")\n",
        "#print(context)\n",
        "#context_sentences = nltk.sent_tokenize(context_section)\n",
        "#context_sentences = parse_sentences(context)\n"
      ],
      "metadata": {
        "id": "BYD-j9bZcwUD"
      },
      "execution_count": 3,
      "outputs": []
    },
    {
      "cell_type": "code",
      "source": [
        "classifier = pipeline(\"sentiment-analysis\")\n",
        "\n",
        "sentiment_list, sentence_list = parse_sentences(context, classifier)\n",
        "\n",
        "#for s in context_sentences:\n",
        "#  if len(s)>10:\n",
        "#    print(s)\n",
        "#    print(pd.DataFrame(classifier(s)))\n",
        "\n"
      ],
      "metadata": {
        "colab": {
          "base_uri": "https://localhost:8080/"
        },
        "id": "MzJYZy0NcAln",
        "outputId": "c998c4c5-2fb0-410a-8eb4-e6fac7486aae"
      },
      "execution_count": 4,
      "outputs": [
        {
          "output_type": "stream",
          "name": "stderr",
          "text": [
            "No model was supplied, defaulted to distilbert-base-uncased-finetuned-sst-2-english and revision af0f99b (https://huggingface.co/distilbert-base-uncased-finetuned-sst-2-english).\n",
            "Using a pipeline without specifying a model name and revision in production is not recommended.\n"
          ]
        }
      ]
    },
    {
      "cell_type": "code",
      "source": [
        "examine_sentence(sentiment_list, sentence_list, 'NEGATIVE')"
      ],
      "metadata": {
        "colab": {
          "base_uri": "https://localhost:8080/"
        },
        "id": "Tg13vBvQhtSP",
        "outputId": "73b82535-6435-4101-b96a-aafab8da3358"
      },
      "execution_count": 5,
      "outputs": [
        {
          "output_type": "execute_result",
          "data": {
            "text/plain": [
              "['Prudent fiscal management, supported by fiscal rules, has helped contain government \\ndebt within the 30-percent-of-GDP ceiling until 2019, at the lowest level in the region.',\n",
              " 'On the heels of a combination of adverse shocks that slowed \\nthe growth momentum in recent years, the pandemic presented an unprecedented challenge, taking \\na heavy toll on lives and livelihoods and causing one of the deepest recessions.',\n",
              " 'The authorities expect to treat the arrangement as precautionary.',\n",
              " 'A new Congress was elected in January 2020, but tensions with the executive power \\ncontinued to affect institutional cohesion.',\n",
              " 'Instability culminated in November 2020 when the former \\npresident was impeached based on corruption allegations.',\n",
              " 'His immediate successor resigned \\nfollowing deadly protests within days after his confirmation, following which Francisco Sagasti was \\ninstalled as the interim president.']"
            ]
          },
          "metadata": {},
          "execution_count": 5
        }
      ]
    }
  ]
}